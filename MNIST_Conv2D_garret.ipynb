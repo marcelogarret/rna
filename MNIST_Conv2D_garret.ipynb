{
  "nbformat": 4,
  "nbformat_minor": 0,
  "metadata": {
    "colab": {
      "provenance": [],
      "gpuType": "T4",
      "include_colab_link": true
    },
    "kernelspec": {
      "name": "python3",
      "display_name": "Python 3"
    },
    "language_info": {
      "name": "python"
    },
    "accelerator": "GPU"
  },
  "cells": [
    {
      "cell_type": "markdown",
      "metadata": {
        "id": "view-in-github",
        "colab_type": "text"
      },
      "source": [
        "<a href=\"https://colab.research.google.com/github/marcelogarret/rna/blob/main/MNIST_Conv2D_garret.ipynb\" target=\"_parent\"><img src=\"https://colab.research.google.com/assets/colab-badge.svg\" alt=\"Open In Colab\"/></a>"
      ]
    },
    {
      "cell_type": "markdown",
      "source": [
        "# Instalação idx2numy"
      ],
      "metadata": {
        "id": "UFMukTSLfcua"
      }
    },
    {
      "cell_type": "code",
      "source": [
        "## Instalando biblioteca para converter o Dataset MNIST Original para Numpy\n",
        "!pip install idx2numpy"
      ],
      "metadata": {
        "colab": {
          "base_uri": "https://localhost:8080/"
        },
        "id": "WAmsRNCaW1kY",
        "outputId": "c2c41016-f342-4c47-a5d1-bbab1563de0b"
      },
      "execution_count": 3,
      "outputs": [
        {
          "output_type": "stream",
          "name": "stdout",
          "text": [
            "Collecting idx2numpy\n",
            "  Downloading idx2numpy-1.2.3.tar.gz (6.8 kB)\n",
            "  Preparing metadata (setup.py) ... \u001b[?25l\u001b[?25hdone\n",
            "Requirement already satisfied: numpy in /usr/local/lib/python3.10/dist-packages (from idx2numpy) (1.25.2)\n",
            "Requirement already satisfied: six in /usr/local/lib/python3.10/dist-packages (from idx2numpy) (1.16.0)\n",
            "Building wheels for collected packages: idx2numpy\n",
            "  Building wheel for idx2numpy (setup.py) ... \u001b[?25l\u001b[?25hdone\n",
            "  Created wheel for idx2numpy: filename=idx2numpy-1.2.3-py3-none-any.whl size=7904 sha256=01d0517ce1fadc3e32b9edeaeaa0c32e9633b1b08f670c85aed8092db27d87dc\n",
            "  Stored in directory: /root/.cache/pip/wheels/e0/f4/e7/643fc5f932ec2ff92997f43f007660feb23f948aa8486f1107\n",
            "Successfully built idx2numpy\n",
            "Installing collected packages: idx2numpy\n",
            "Successfully installed idx2numpy-1.2.3\n"
          ]
        }
      ]
    },
    {
      "cell_type": "markdown",
      "source": [
        "# Importando Bibliotecas"
      ],
      "metadata": {
        "id": "6NBG1uL-fikr"
      }
    },
    {
      "cell_type": "code",
      "source": [
        "import numpy as np\n",
        "import idx2numpy\n",
        "import matplotlib.pyplot as plt\n",
        "from sklearn.pipeline import Pipeline\n",
        "from sklearn.preprocessing import MinMaxScaler\n",
        "from sklearn.base import BaseEstimator, TransformerMixin\n",
        "from sklearn.base import ClassifierMixin\n",
        "from sklearn.metrics import accuracy_score\n",
        "from tensorflow.keras.utils import to_categorical\n",
        "from tensorflow import keras\n",
        "from tensorflow.keras import layers\n",
        "import cv2"
      ],
      "metadata": {
        "id": "bNle03A6fl17"
      },
      "execution_count": 4,
      "outputs": []
    },
    {
      "cell_type": "markdown",
      "source": [
        "# Carregando Dataset MNIST Original"
      ],
      "metadata": {
        "id": "Q4TpLDlMfxfj"
      }
    },
    {
      "cell_type": "code",
      "source": [
        "# Montando o Google Drive\n",
        "\n",
        "from google.colab import drive\n",
        "drive.mount('/content/drive')"
      ],
      "metadata": {
        "colab": {
          "base_uri": "https://localhost:8080/"
        },
        "id": "7N6wmNLTnrqM",
        "outputId": "0716617c-d82f-4747-c4cc-c214f69ea12c"
      },
      "execution_count": 5,
      "outputs": [
        {
          "output_type": "stream",
          "name": "stdout",
          "text": [
            "Drive already mounted at /content/drive; to attempt to forcibly remount, call drive.mount(\"/content/drive\", force_remount=True).\n"
          ]
        }
      ]
    },
    {
      "cell_type": "code",
      "source": [
        "# Convertendo para Numpy o Dataset original do MNIST\n",
        "# Disponível em http://yann.lecun.com/exdb/mnist/index.html\n",
        "\n",
        "train_images = idx2numpy.convert_from_file('/content/drive/MyDrive/MNIST/train-images.idx3-ubyte')\n",
        "train_labels = idx2numpy.convert_from_file('/content/drive/MyDrive/MNIST/train-labels.idx1-ubyte')\n",
        "test_images = idx2numpy.convert_from_file('/content/drive/MyDrive/MNIST/t10k-images.idx3-ubyte')\n",
        "test_labels = idx2numpy.convert_from_file('/content/drive/MyDrive/MNIST/t10k-labels.idx1-ubyte')"
      ],
      "metadata": {
        "id": "Agudz23sYvRm"
      },
      "execution_count": 6,
      "outputs": []
    },
    {
      "cell_type": "code",
      "source": [
        "# Verificando as dimensões dos vetores de dados\n",
        "\n",
        "print(f\"Train Images: {train_images.shape}\")\n",
        "print(f\"Test Images: {test_images.shape}\")"
      ],
      "metadata": {
        "colab": {
          "base_uri": "https://localhost:8080/"
        },
        "id": "1v2I6Zhs0xzC",
        "outputId": "a095666a-535b-4e8b-adf6-a9081457feb3"
      },
      "execution_count": 7,
      "outputs": [
        {
          "output_type": "stream",
          "name": "stdout",
          "text": [
            "Train Images: (60000, 28, 28)\n",
            "Test Images: (10000, 28, 28)\n"
          ]
        }
      ]
    },
    {
      "cell_type": "code",
      "source": [
        "# Verificando os rótulos\n",
        "\n",
        "print(f\"Train Labels: {set(train_labels)}\")"
      ],
      "metadata": {
        "colab": {
          "base_uri": "https://localhost:8080/"
        },
        "id": "I0yhWoSe1AXy",
        "outputId": "e8e96aed-275a-4401-ad49-281295aa67f0"
      },
      "execution_count": 8,
      "outputs": [
        {
          "output_type": "stream",
          "name": "stdout",
          "text": [
            "Train Labels: {0, 1, 2, 3, 4, 5, 6, 7, 8, 9}\n"
          ]
        }
      ]
    },
    {
      "cell_type": "code",
      "source": [
        "# Imprimindo um exemplo de imagem de treinamento\n",
        "\n",
        "plt.imshow(train_images[0], cmap=plt.cm.binary)\n",
        "plt.show()"
      ],
      "metadata": {
        "colab": {
          "base_uri": "https://localhost:8080/",
          "height": 430
        },
        "id": "3BvfBMaL1Frq",
        "outputId": "19abb3b0-3698-4f1a-c27c-25181788559e"
      },
      "execution_count": 9,
      "outputs": [
        {
          "output_type": "display_data",
          "data": {
            "text/plain": [
              "<Figure size 640x480 with 1 Axes>"
            ],
            "image/png": "[encoded data removed]"
          },
          "metadata": {}
        }
      ]
    },
    {
      "cell_type": "markdown",
      "source": [
        "# Pré-processamento"
      ],
      "metadata": {
        "id": "yYdlblp3hPdh"
      }
    },
    {
      "cell_type": "code",
      "source": [
        "# Criando funções para transformações de deskewing, remoção de ruído e blurring das imagens\n",
        "# Deskewing: correção do alinhamento de imagens inclinadas\n",
        "# Remoção de ruído: filtro de mediana para suavizar a imagem e remover pequenos ruídos\n",
        "# Blurring: filtro gaussiano para suavizar ainda mais a imagem e reduzir detalhes excessivos\n",
        "\n",
        "def deskew_image(image):\n",
        "    # Calcular os momentos da imagem\n",
        "    m = cv2.moments(image)\n",
        "    if abs(m['mu02']) < 1e-2:\n",
        "        return image.copy()\n",
        "    # Calcular o ângulo de deskewing\n",
        "    skew = m['mu11'] / m['mu02']\n",
        "    M = np.float32([[1, skew, -0.5*28*skew], [0, 1, 0]])\n",
        "    img = cv2.warpAffine(image, M, (28, 28), flags=cv2.WARP_INVERSE_MAP | cv2.INTER_LINEAR)\n",
        "    return img\n",
        "\n",
        "def remove_noise(image):\n",
        "    # Aplicar um filtro de mediana para remover ruído\n",
        "    return cv2.medianBlur(image, 3)\n",
        "\n",
        "def apply_blur(image):\n",
        "    # Aplicar um leve desfoque gaussiano\n",
        "    return cv2.GaussianBlur(image, (3, 3), 0)\n",
        "\n",
        "def preprocess_images(images):\n",
        "    preprocessed_images = []\n",
        "    for img in images:\n",
        "        img = img.astype(np.uint8)\n",
        "        img = deskew_image(img)\n",
        "        img = remove_noise(img)\n",
        "        img = apply_blur(img)\n",
        "        preprocessed_images.append(img)\n",
        "    return np.array(preprocessed_images)"
      ],
      "metadata": {
        "id": "v965e-W4lKTp"
      },
      "execution_count": 10,
      "outputs": []
    },
    {
      "cell_type": "code",
      "source": [
        "# Aplicando o pré-processamento ao dataset\n",
        "\n",
        "train_images = preprocess_images(train_images)\n",
        "test_images = preprocess_images(test_images)"
      ],
      "metadata": {
        "id": "EYpzI56CmoXV"
      },
      "execution_count": 11,
      "outputs": []
    },
    {
      "cell_type": "code",
      "source": [
        "# Imprimindo um exemplo de imagem de treinamento após pré-processamento\n",
        "\n",
        "plt.imshow(train_images[0], cmap=plt.cm.binary)\n",
        "plt.show()"
      ],
      "metadata": {
        "colab": {
          "base_uri": "https://localhost:8080/",
          "height": 430
        },
        "id": "NlfUPOrdmL-J",
        "outputId": "de291112-b368-48b1-92b1-d439e717787b"
      },
      "execution_count": 12,
      "outputs": [
        {
          "output_type": "display_data",
          "data": {
            "text/plain": [
              "<Figure size 640x480 with 1 Axes>"
            ],
            "image/png": "[encoded data removed]"
          },
          "metadata": {}
        }
      ]
    },
    {
      "cell_type": "code",
      "source": [
        "# Classe para normalização dos dados\n",
        "\n",
        "class DividePor255(BaseEstimator, TransformerMixin):\n",
        "  def fit(self, X, y):\n",
        "    return self\n",
        "  def transform(self, X, y=None):\n",
        "    return X.astype(\"float32\") / 255\n",
        "\n",
        "# Classe de redimensionamento para 3 dimensões (altura = 28px, largura = 28px, canal = 1)\n",
        "# O Keras requer uma dimensão extra no final, que corresponde aos canais.\n",
        "# As imagens do MNIST são em escala de cinza, então usam apenas um canal.\n",
        "\n",
        "class MudaShape(BaseEstimator, TransformerMixin):\n",
        "  def fit(self, X, y):\n",
        "    return self\n",
        "  def transform(self, X, y=None):\n",
        "    return X.reshape((-1, 28, 28, 1))"
      ],
      "metadata": {
        "id": "PnpW13QhcYR7"
      },
      "execution_count": 13,
      "outputs": []
    },
    {
      "cell_type": "code",
      "source": [
        "# Convertendo os rótulos de números de 0 a 9 para vetores \"one hot\"\n",
        "# Exemplo: 1 -> [0,1,0,0,0,0,0,0,0,0])\n",
        "\n",
        "train_labels_hot = to_categorical(train_labels)\n",
        "test_labels_hot = to_categorical(test_labels)"
      ],
      "metadata": {
        "id": "pci39IF2et6s"
      },
      "execution_count": 14,
      "outputs": []
    },
    {
      "cell_type": "markdown",
      "source": [
        "# Construção da Rede Neural CNN"
      ],
      "metadata": {
        "id": "-tW9CluZizbF"
      }
    },
    {
      "cell_type": "code",
      "source": [
        "# Definindo arquitetura da Rede Neural Convolucional (API funcional)\n",
        "\n",
        "def define_arquitetura(input_shape, output_shape):\n",
        "  inputs = keras.Input(shape=input_shape)\n",
        "  x = layers.Conv2D(filters=32, kernel_size=3, activation=\"relu\")(inputs)\n",
        "  x = layers.MaxPooling2D(pool_size=2)(x)\n",
        "  x = layers.Conv2D(filters=64, kernel_size=3, activation=\"relu\")(x)\n",
        "  x = layers.MaxPooling2D(pool_size=2)(x)\n",
        "  x = layers.Conv2D(filters=128, kernel_size=3, activation=\"relu\")(x)\n",
        "  x = layers.Flatten()(x)\n",
        "  outputs = layers.Dense(output_shape, activation=\"softmax\")(x)\n",
        "  return keras.Model(inputs=inputs, outputs=outputs)\n",
        "\n",
        "model = define_arquitetura((28,28,1), 10)\n",
        "model.summary()"
      ],
      "metadata": {
        "colab": {
          "base_uri": "https://localhost:8080/"
        },
        "id": "dbe5UoxAIoJs",
        "outputId": "2d19177f-4cdc-4856-94f9-541711b8eedf"
      },
      "execution_count": 15,
      "outputs": [
        {
          "output_type": "stream",
          "name": "stdout",
          "text": [
            "Model: \"model\"\n",
            "_________________________________________________________________\n",
            " Layer (type)                Output Shape              Param #   \n",
            "=================================================================\n",
            " input_1 (InputLayer)        [(None, 28, 28, 1)]       0         \n",
            "                                                                 \n",
            " conv2d (Conv2D)             (None, 26, 26, 32)        320       \n",
            "                                                                 \n",
            " max_pooling2d (MaxPooling2  (None, 13, 13, 32)        0         \n",
            " D)                                                              \n",
            "                                                                 \n",
            " conv2d_1 (Conv2D)           (None, 11, 11, 64)        18496     \n",
            "                                                                 \n",
            " max_pooling2d_1 (MaxPoolin  (None, 5, 5, 64)          0         \n",
            " g2D)                                                            \n",
            "                                                                 \n",
            " conv2d_2 (Conv2D)           (None, 3, 3, 128)         73856     \n",
            "                                                                 \n",
            " flatten (Flatten)           (None, 1152)              0         \n",
            "                                                                 \n",
            " dense (Dense)               (None, 10)                11530     \n",
            "                                                                 \n",
            "=================================================================\n",
            "Total params: 104202 (407.04 KB)\n",
            "Trainable params: 104202 (407.04 KB)\n",
            "Non-trainable params: 0 (0.00 Byte)\n",
            "_________________________________________________________________\n"
          ]
        }
      ]
    },
    {
      "cell_type": "code",
      "source": [
        "# Definindo a Rede Neural\n",
        "\n",
        "class RedeNeural(BaseEstimator, ClassifierMixin):\n",
        "  def __init__(self, epochs=5, batch_size=128):\n",
        "    self.epochs = epochs\n",
        "    self.batch_size = batch_size\n",
        "  def fit(self, X, y):\n",
        "    self.labels, ids = np.unique(y, return_inverse=True)\n",
        "    yhot = keras.utils.to_categorical(ids)\n",
        "    self.model = define_arquitetura(X.shape[1:], yhot.shape[1])\n",
        "    self.model.compile(optimizer=\"rmsprop\",\n",
        "                       loss=\"categorical_crossentropy\",\n",
        "                       metrics=[\"accuracy\"])\n",
        "    self.model.fit(X, yhot, epochs=self.epochs, batch_size=self.batch_size)\n",
        "    return self\n",
        "  def predict(self, X, y=None):\n",
        "    probabilities = self.model.predict(X)\n",
        "    ypred = self.labels[np.argmax(probabilities, axis=1)]\n",
        "    return ypred"
      ],
      "metadata": {
        "id": "KtpPeRsmME9T"
      },
      "execution_count": 16,
      "outputs": []
    },
    {
      "cell_type": "markdown",
      "source": [
        "# Execução do Modelo"
      ],
      "metadata": {
        "id": "386kFWuCjY-A"
      }
    },
    {
      "cell_type": "code",
      "source": [
        "# Modelo com Pipeline de Pré-processamento + Rede Neural CNN\n",
        "\n",
        "modelo = Pipeline([\n",
        "    (\"scaler\", DividePor255()),\n",
        "    (\"reshape\", MudaShape()),\n",
        "    (\"ann\", RedeNeural(epochs=5, batch_size=64))\n",
        "])\n",
        "\n",
        "modelo.fit(train_images, train_labels)\n",
        "ypred = modelo.predict(test_images)\n",
        "accuracy_score(test_labels, ypred)"
      ],
      "metadata": {
        "colab": {
          "base_uri": "https://localhost:8080/"
        },
        "id": "1M42wLzYIdQ6",
        "outputId": "222980d5-770a-4e36-b6d8-5eda1e8d05ce"
      },
      "execution_count": 17,
      "outputs": [
        {
          "output_type": "stream",
          "name": "stdout",
          "text": [
            "Epoch 1/5\n",
            "938/938 [==============================] - 11s 5ms/step - loss: 0.1702 - accuracy: 0.9487\n",
            "Epoch 2/5\n",
            "938/938 [==============================] - 5s 5ms/step - loss: 0.0537 - accuracy: 0.9830\n",
            "Epoch 3/5\n",
            "938/938 [==============================] - 4s 5ms/step - loss: 0.0391 - accuracy: 0.9876\n",
            "Epoch 4/5\n",
            "938/938 [==============================] - 4s 4ms/step - loss: 0.0309 - accuracy: 0.9906\n",
            "Epoch 5/5\n",
            "938/938 [==============================] - 5s 6ms/step - loss: 0.0262 - accuracy: 0.9917\n",
            "313/313 [==============================] - 1s 3ms/step\n"
          ]
        },
        {
          "output_type": "execute_result",
          "data": {
            "text/plain": [
              "0.9917"
            ]
          },
          "metadata": {},
          "execution_count": 17
        }
      ]
    }
  ]
}